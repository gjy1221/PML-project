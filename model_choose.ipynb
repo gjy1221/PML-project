{
 "cells": [
  {
   "metadata": {},
   "cell_type": "markdown",
   "source": "导入包",
   "id": "c671d30c0ed0acef"
  },
  {
   "metadata": {
    "ExecuteTime": {
     "end_time": "2024-07-19T13:32:52.733958Z",
     "start_time": "2024-07-19T13:32:52.728468Z"
    }
   },
   "cell_type": "code",
   "source": [
    "from tensorflow.keras.layers import MaxPooling1D, Flatten\n",
    "from tensorflow.keras.layers import Activation, Add, GlobalAveragePooling2D, Dropout\n",
    "from tensorflow.keras.layers import Reshape\n",
    "from sklearn.metrics import roc_curve, auc  \n",
    "from sklearn.preprocessing import label_binarize  \n",
    "import matplotlib.pyplot as plt  \n",
    "import os\n",
    "import pandas as pd\n",
    "import librosa\n",
    "import skimage.util\n",
    "import config\n",
    "import pickle\n",
    "import math\n",
    "from sklearn.metrics import precision_score, recall_score, f1_score, confusion_matrix, accuracy_score\n",
    "import numpy as np  \n",
    "from collections import Counter\n",
    "from tensorflow.keras.layers import Dense\n",
    "from tensorflow.keras.layers import Conv2D, BatchNormalization, Activation, Add, Input, GlobalAveragePooling2D, MaxPooling2D\n",
    "from tensorflow.keras.models import Model\n",
    "from tensorflow.keras.layers import Reshape\n",
    "from keras.utils import to_categorical  \n",
    "from tensorflow.keras.models import Sequential  "
   ],
   "id": "f45b8dd6c6a10318",
   "outputs": [],
   "execution_count": 2
  },
  {
   "metadata": {},
   "cell_type": "markdown",
   "source": "配置文件和创建文件夹用于存储特征数据",
   "id": "fbd1edec2cf311fd"
  },
  {
   "metadata": {
    "ExecuteTime": {
     "end_time": "2024-07-18T17:26:49.857743Z",
     "start_time": "2024-07-18T17:26:49.853456Z"
    }
   },
   "cell_type": "code",
   "source": [
    "# Configuration file for parameters\n",
    "# os.getcwd()\n",
    "# Data directories\n",
    "# data_df = os.path.join(os.path.pardir, 'data', 'metadata', 'neurips_2021_zenodo_0_0_1.csv')\n",
    "# data_df = os.path.join(os.path.pardir, 'data', 'metadata', 'db_10_06_21_inc_false_positives.csv')\n",
    "data_dir = 'humbugdb_neurips_2021'\n",
    "outputs_dir = os.path.join('outputs')\n",
    "plot_dir = os.path.join('outputs', 'plots')\n",
    "model_dir = os.path.join('outputs', 'models')  # Model sub-directory created in config_keras or config_pytorch\n",
    "# Librosa settings\n",
    "# Feature output directory\n",
    "features_dir = os.path.join('outputs', 'features')\n",
    "# sub-directory for mosquito event_detection\n",
    "dir_out_MED = os.path.join('outputs', 'features', 'MED')\n",
    "# sub-directory for mosquito species classification\n",
    "dir_out_MSC = os.path.join('outputs', 'features', 'MSC')\n",
    "rate = 8000\n",
    "win_size = 30\n",
    "step_size = 5\n",
    "n_feat = 128\n",
    "NFFT = 1024\n",
    "n_hop = NFFT / 2\n",
    "frame_duration = n_hop / rate  # Frame duration in ms\n",
    "# Normalisation\n",
    "norm_per_sample = True\n",
    "# Calculating window size based on desired min duration (sample chunks)\n",
    "# default at 8000Hz: 2048 NFFT -> NFFT/4 for window size = hop length in librosa.\n",
    "# Recommend lowering NFFT to 1024 so that the default hop length is 256 (or 32 ms).\n",
    "# Then a win size of 60 produces 60x32 = 1.92 (s) chunks for training\n",
    "min_duration = win_size * frame_duration  # Change to match 1.92 (later)\n",
    "\n",
    "# Create directories if they do not exist:\n",
    "for directory in [outputs_dir, features_dir]:\n",
    "    # 检查路径是否存在，如果不存在则创建\n",
    "    if not os.path.exists(directory):\n",
    "        os.makedirs(directory)\n",
    "        print('Created directory:', directory)\n",
    "\n",
    "\n",
    "for directory in [plot_dir, dir_out_MED, dir_out_MSC, model_dir]:\n",
    "    if not os.path.isdir(directory):\n",
    "        os.mkdir(directory)\n",
    "        print('Created directory:', directory)\n"
   ],
   "id": "2f7553d1c3d9ccbd",
   "outputs": [],
   "execution_count": 28
  },
  {
   "metadata": {},
   "cell_type": "markdown",
   "source": "提取特征",
   "id": "88919ee63779e4d2"
  },
  {
   "metadata": {
    "ExecuteTime": {
     "end_time": "2024-07-18T17:26:52.040Z",
     "start_time": "2024-07-18T17:26:52.015339Z"
    }
   },
   "cell_type": "code",
   "source": [
    "df = pd.read_csv('neurips_2021_zenodo_0_0_1.csv')\n",
    "\n",
    "# To be kept: please do not edit the test set: these paths select test set A, test set B as described in the paper\n",
    "idx_test_A = np.logical_and(df['country'] == 'Tanzania', df['location_type'] == 'field')\n",
    "idx_test_B = np.logical_and(df['country'] == 'UK', df['location_type'] == 'culture')\n",
    "idx_train = np.logical_not(np.logical_or(idx_test_A, idx_test_B))\n",
    "df_test_A = df[idx_test_A]\n",
    "df_test_B = df[idx_test_B]\n",
    "\n",
    "\n",
    "# Extract features from wave files with id corresponding to dataframe data_df.\n",
    "def get_feat(data_df, data_dir, rate, min_duration, n_feat):\n",
    "    ''' Returns features extracted with Librosa. A list of features, with the number of items equal to the number of input recordings'''\n",
    "    X = []\n",
    "    y = []\n",
    "    bugs = []\n",
    "    idx = 0\n",
    "    skipped_files = []\n",
    "    for row_idx_series in data_df.iterrows():\n",
    "        idx += 1\n",
    "        if idx % 100 == 0:\n",
    "            print('Completed', idx, 'of', len(data_df))\n",
    "        row = row_idx_series[1]\n",
    "        label_duration = row['length']\n",
    "        if label_duration > min_duration:\n",
    "            _, file_format = os.path.splitext(row['name'])\n",
    "            filename = os.path.join(data_dir, str(row['id']) + file_format)\n",
    "            length = librosa.get_duration(path=filename)\n",
    "            #             assert math.isclose(length,label_duration, rel_tol=0.01), \"File: %s label duration (%.4f) does not match audio length (%.4f)\" % (row['path'], label_duration, length)\n",
    "\n",
    "            if math.isclose(length, label_duration, rel_tol=0.01):\n",
    "                signal, rate = librosa.load(filename, sr=rate)\n",
    "                feat = librosa.feature.melspectrogram(y=signal, sr=rate, n_mels=n_feat)\n",
    "                feat = librosa.power_to_db(feat, ref=np.max)\n",
    "                if config.norm_per_sample:\n",
    "                    feat = (feat - np.mean(feat)) / np.std(feat)\n",
    "                X.append(feat)\n",
    "                if row['sound_type'] == 'mosquito':\n",
    "                    y.append(0)\n",
    "                else:\n",
    "                    if row['sound_type'] =='background':  \n",
    "                        y.append(1)\n",
    "                    else:\n",
    "                        y.append(2)\n",
    "            else:\n",
    "                print(\"File: %s label duration (%.4f) does not match audio length (%.4f)\" % (\n",
    "                    row['name'], label_duration, length))\n",
    "                bugs.append([row['name'], label_duration, length])\n",
    "\n",
    "        else:\n",
    "            skipped_files.append([row['id'], row['name'], label_duration])\n",
    "    return X, y, skipped_files, bugs\n",
    "\n",
    "\n",
    "def reshape_feat(feats, labels, win_size, step_size):\n",
    "    '''Reshaping features from get_feat to be compatible for classifiers expecting a 2D slice as input. Parameter `win_size` is\n",
    "    given in number of feature windows (in librosa this is the hop length divided by the sample rate.)\n",
    "    Can code to be a function of time and hop length instead in future.'''\n",
    "\n",
    "    feats_windowed_array = []\n",
    "    labels_windowed_array = []\n",
    "    for idx, feat in enumerate(feats):\n",
    "        if np.shape(feat)[1] < win_size:\n",
    "            print('Length of recording shorter than supplied window size.')\n",
    "            pass\n",
    "        else:\n",
    "            feats_windowed = skimage.util.view_as_windows(feat.T, (win_size, np.shape(feat)[0]), step=step_size)\n",
    "            # feats_windowed = np.squeeze(feats_windowed) # 删除多余维度\n",
    "            labels_windowed = np.full(len(feats_windowed), labels[idx])\n",
    "            feats_windowed_array.append(feats_windowed)\n",
    "            labels_windowed_array.append(labels_windowed)\n",
    "    return np.vstack(feats_windowed_array), np.hstack(labels_windowed_array)\n"
   ],
   "id": "7d0be166674954ea",
   "outputs": [],
   "execution_count": 29
  },
  {
   "metadata": {
    "ExecuteTime": {
     "end_time": "2024-07-18T17:26:54.671287Z",
     "start_time": "2024-07-18T17:26:54.654759Z"
    }
   },
   "cell_type": "code",
   "source": [
    "\n",
    "def get_train_test_from_df(df_train, df_test_A, df_test_B, debug=False):\n",
    "    pickle_name_train = 'log_mel_feat_train_' + str(config.n_feat) + '_win_' + str(config.win_size) + '_step_' + str(\n",
    "        config.step_size) + '_norm_' + str(config.norm_per_sample) + '.pickle'\n",
    "    # step = window for test (no augmentation of test):\n",
    "    pickle_name_test = 'log_mel_feat_test_' + str(config.n_feat) + '_win_' + str(config.win_size) + '_step_' + str(\n",
    "        config.win_size) + '_norm_' + str(config.norm_per_sample) + '.pickle'\n",
    "\n",
    "    if not os.path.isfile(os.path.join(config.dir_out_MED, pickle_name_train)):\n",
    "        print('Extracting training features...')\n",
    "        X_train, y_train, skipped_files_train, bugs_train = get_feat(data_df=df_train, data_dir=config.data_dir,\n",
    "                                                                     rate=config.rate, min_duration=config.min_duration,\n",
    "                                                                     n_feat=config.n_feat)\n",
    "        X_train, y_train = reshape_feat(X_train, y_train, config.win_size, config.step_size)\n",
    "\n",
    "        log_mel_feat_train = {'X_train': X_train, 'y_train': y_train, 'bugs_train': bugs_train}\n",
    "\n",
    "        if debug:\n",
    "            print('Bugs train', bugs_train)\n",
    "\n",
    "        with open(os.path.join(config.dir_out_MED, pickle_name_train), 'wb') as f:\n",
    "            pickle.dump(log_mel_feat_train, f, protocol=4)\n",
    "            print('Saved features to:', os.path.join(config.dir_out_MED, pickle_name_train))\n",
    "\n",
    "    else:\n",
    "        print('Loading training features found at:', os.path.join(config.dir_out_MED, pickle_name_train))\n",
    "        with open(os.path.join(config.dir_out_MED, pickle_name_train), 'rb') as input_file:\n",
    "            log_mel_feat = pickle.load(input_file)\n",
    "            X_train = log_mel_feat['X_train']\n",
    "            y_train = log_mel_feat['y_train']\n",
    "\n",
    "    if not os.path.isfile(os.path.join(config.dir_out_MED, pickle_name_test)):\n",
    "        print('Extracting test features...')\n",
    "\n",
    "        X_test_A, y_test_A, skipped_files_test_A, bugs_test_A = get_feat(data_df=df_test_A, data_dir=config.data_dir,\n",
    "                                                                         rate=config.rate,\n",
    "                                                                         min_duration=config.min_duration,\n",
    "                                                                         n_feat=config.n_feat)\n",
    "        X_test_B, y_test_B, skipped_files_test_B, bugs_test_B = get_feat(data_df=df_test_B, data_dir=config.data_dir,\n",
    "                                                                         rate=config.rate,\n",
    "                                                                         min_duration=config.min_duration,\n",
    "                                                                         n_feat=config.n_feat)\n",
    "        X_test_A, y_test_A = reshape_feat(X_test_A, y_test_A, config.win_size,\n",
    "                                          config.win_size)  # Test should be strided with step = window.\n",
    "        X_test_B, y_test_B = reshape_feat(X_test_B, y_test_B, config.win_size, config.win_size)\n",
    "\n",
    "        log_mel_feat_test = {'X_test_A': X_test_A, 'X_test_B': X_test_B, 'y_test_A': y_test_A, 'y_test_B': y_test_B}\n",
    "\n",
    "        if debug:\n",
    "            print('Bugs test A', bugs_test_A)\n",
    "            print('Bugs test B', bugs_test_B)\n",
    "\n",
    "        with open(os.path.join(config.dir_out_MED, pickle_name_test), 'wb') as f:\n",
    "            pickle.dump(log_mel_feat_test, f, protocol=4)\n",
    "            print('Saved features to:', os.path.join(config.dir_out_MED, pickle_name_test))\n",
    "    else:\n",
    "        print('Loading test features found at:', os.path.join(config.dir_out_MED, pickle_name_test))\n",
    "        with open(os.path.join(config.dir_out_MED, pickle_name_test), 'rb') as input_file:\n",
    "            log_mel_feat = pickle.load(input_file)\n",
    "\n",
    "            X_test_A = log_mel_feat['X_test_A']\n",
    "            y_test_A = log_mel_feat['y_test_A']\n",
    "            X_test_B = log_mel_feat['X_test_B']\n",
    "            y_test_B = log_mel_feat['y_test_B']\n",
    "\n",
    "    return X_train, y_train, X_test_A, y_test_A, X_test_B, y_test_B\n",
    "\n",
    "\n",
    "df_train = df[idx_train]\n",
    "\n",
    "# Modify by addition or sub-sampling of df_train here\n",
    "# df_train ...\n",
    "\n",
    "# Assertion to check that train does NOT appear in test:\n",
    "assert len(np.where(pd.concat([df_train, df_test_A, df_test_B]).duplicated())[0]) == 0, (\n",
    "    'Train dataframe contains overlap with Test A, Test B')\n"
   ],
   "id": "87074e9c53d6e4e4",
   "outputs": [],
   "execution_count": 30
  },
  {
   "metadata": {
    "ExecuteTime": {
     "end_time": "2024-07-18T17:27:00.579589Z",
     "start_time": "2024-07-18T17:26:57.035010Z"
    }
   },
   "cell_type": "code",
   "source": [
    "\n",
    "# 获取数据\n",
    "X_train, y_train, X_test_A, y_test_A, X_test_B, y_test_B = get_train_test_from_df(df_train, df_test_A, df_test_B,\n",
    "                                                                                  debug=True)\n",
    "\n",
    "# Convert to numpy arrays\n",
    "X_train = np.array(X_train)\n",
    "y_train = np.array(y_train)\n",
    "X_test_A = np.array(X_test_A)\n",
    "X_test_B = np.array(X_test_B)\n",
    "y_test_A = np.array(y_test_A)\n",
    "y_test_B = np.array(y_test_B)\n",
    "\n",
    "# Check for NaN values in X_train\n",
    "nan_indices = np.isnan(X_train)\n",
    "if np.any(nan_indices):\n",
    "    print(\"NaN values found in X_train. Handling NaN values...\")\n",
    "    # Option 1: Replace NaN with mean value\n",
    "    from sklearn.impute import SimpleImputer\n",
    "\n",
    "    imputer = SimpleImputer(strategy='mean')\n",
    "    X_train = imputer.fit_transform(X_train)\n",
    "\n",
    "    # Option 2: Drop samples with NaN values\n",
    "    # X_train = X_train[~np.any(nan_indices, axis=1)]"
   ],
   "id": "15af8acc61573320",
   "outputs": [
    {
     "name": "stdout",
     "output_type": "stream",
     "text": [
      "Loading training features found at: outputs\\features\\MED\\log_mel_feat_train_128_win_30_step_5_norm_True.pickle\n",
      "Loading test features found at: outputs\\features\\MED\\log_mel_feat_test_128_win_30_step_30_norm_True.pickle\n"
     ]
    }
   ],
   "execution_count": 31
  },
  {
   "metadata": {
    "ExecuteTime": {
     "end_time": "2024-07-18T17:27:09.834079Z",
     "start_time": "2024-07-18T17:27:09.830535Z"
    }
   },
   "cell_type": "code",
   "source": "print(X_train.shape)",
   "id": "cd9ca90bf61d7640",
   "outputs": [
    {
     "name": "stdout",
     "output_type": "stream",
     "text": [
      "(302037, 1, 30, 128)\n"
     ]
    }
   ],
   "execution_count": 32
  },
  {
   "metadata": {
    "ExecuteTime": {
     "end_time": "2024-07-18T17:27:10.960113Z",
     "start_time": "2024-07-18T17:27:10.932549Z"
    }
   },
   "cell_type": "code",
   "source": [
    "# 训练集标签分布\n",
    "print('y_train dataset shape %s' % Counter(y_train))\n",
    "print('y_test_A dataset shape %s' % Counter(y_test_A))\n",
    "print('y_test_B dataset shape %s' % Counter(y_test_B))"
   ],
   "id": "421a717b594f0d40",
   "outputs": [
    {
     "name": "stdout",
     "output_type": "stream",
     "text": [
      "y_train dataset shape Counter({0: 163603, 1: 136188, 2: 2246})\n",
      "y_test_A dataset shape Counter({1: 2068, 0: 1714})\n",
      "y_test_B dataset shape Counter({1: 1019, 0: 616, 2: 65})\n"
     ]
    }
   ],
   "execution_count": 33
  },
  {
   "metadata": {},
   "cell_type": "markdown",
   "source": "整理输入数据",
   "id": "985e747423dc7c40"
  },
  {
   "metadata": {
    "ExecuteTime": {
     "end_time": "2024-07-18T17:27:13.341539Z",
     "start_time": "2024-07-18T17:27:13.333952Z"
    }
   },
   "cell_type": "code",
   "source": [
    "X_train = X_train\n",
    "y_train = y_train\n",
    "# 调整张量形状\n",
    "X_train = np.squeeze(X_train)\n",
    "n_samples, n_w, n_h = X_train.shape\n",
    "# 将 y_train 转换为独热编码  \n",
    "y_train = to_categorical(y_train, num_classes=3)  "
   ],
   "id": "1074b32fa9f9f45c",
   "outputs": [],
   "execution_count": 34
  },
  {
   "metadata": {
    "ExecuteTime": {
     "end_time": "2024-07-18T17:27:15.827360Z",
     "start_time": "2024-07-18T17:27:14.699371Z"
    }
   },
   "cell_type": "code",
   "source": [
    "# 添加一个维度\n",
    "X_train = Reshape((n_w,n_h,1))(X_train)"
   ],
   "id": "d6320779eab876c4",
   "outputs": [],
   "execution_count": 35
  },
  {
   "metadata": {},
   "cell_type": "markdown",
   "source": "CNN网络",
   "id": "6906ec02029a9d06"
  },
  {
   "metadata": {
    "ExecuteTime": {
     "end_time": "2024-07-18T17:44:17.451615Z",
     "start_time": "2024-07-18T17:44:17.448550Z"
    }
   },
   "cell_type": "code",
   "source": [
    "# 定义cnn模型\n",
    "# 设定输入形状\n",
    "input_shape = (n_w, n_h, 1)"
   ],
   "id": "47a74365813a7e52",
   "outputs": [],
   "execution_count": 82
  },
  {
   "metadata": {
    "ExecuteTime": {
     "end_time": "2024-07-18T17:42:57.516610Z",
     "start_time": "2024-07-18T17:42:57.513385Z"
    }
   },
   "cell_type": "code",
   "source": [
    "from tensorflow.keras.callbacks import ModelCheckpoint \n",
    "checkpoint_cb = ModelCheckpoint('best_model.keras', monitor='val_loss', verbose=1,  \n",
    "                                save_best_only=True, mode='min')  "
   ],
   "id": "c0a9a2599a4ef258",
   "outputs": [],
   "execution_count": 75
  },
  {
   "metadata": {
    "ExecuteTime": {
     "end_time": "2024-07-19T00:28:38.379080Z",
     "start_time": "2024-07-19T00:28:38.303455Z"
    }
   },
   "cell_type": "code",
   "source": [
    "# 创建模型\n",
    "model = Sequential()\n",
    "\n",
    "# 添加卷积层\n",
    "model.add(Conv2D(filters=32, kernel_size=(3, 3), strides=(1, 1), padding='same', activation='relu', input_shape=input_shape))\n",
    "model.add(MaxPooling2D(pool_size=(2,2)))  # 添加最大池化层\n",
    "\n",
    "# 添加第二个卷积层\n",
    "model.add(Conv2D(filters=32, kernel_size=(3, 3), strides=(1, 1), activation='relu', padding='same'))\n",
    "model.add(MaxPooling2D(pool_size=(2,2)))\n",
    "\n",
    "# 添加第三个卷积层\n",
    "model.add(Conv2D(filters=64, kernel_size=(3, 3), strides=(1, 1), activation='relu', padding='same'))\n",
    "model.add(MaxPooling2D(pool_size=(2,2)))\n",
    "\n",
    "# 添加第四个卷积层\n",
    "model.add(Conv2D(filters=32, kernel_size=(3, 3), strides=(1, 1), activation='relu', padding='same'))\n",
    "model.add(GlobalAveragePooling2D())  # 添加全局平均池化层\n",
    "\n",
    "# 展平层\n",
    "# GlobalAveragePooling1D 已经展平输出，所以不需要 Flatten 层\n",
    "\n",
    "# 全连接层\n",
    "model.add(Dense(64, activation='relu'))\n",
    "# model.add(Dropout(0.5))  # 添加50%的Dropout\n",
    "\n",
    "# 输出层\n",
    "model.add(Dense(3, activation='softmax'))\n",
    "\n",
    "# 编译模型\n",
    "model.compile(optimizer='adam', loss='categorical_crossentropy', metrics=['accuracy'])\n",
    "model.summary()"
   ],
   "id": "bfe29749884b75c7",
   "outputs": [
    {
     "name": "stderr",
     "output_type": "stream",
     "text": [
      "D:\\pml-project\\venv\\Lib\\site-packages\\keras\\src\\layers\\convolutional\\base_conv.py:107: UserWarning: Do not pass an `input_shape`/`input_dim` argument to a layer. When using Sequential models, prefer using an `Input(shape)` object as the first layer in the model instead.\n",
      "  super().__init__(activity_regularizer=activity_regularizer, **kwargs)\n"
     ]
    },
    {
     "data": {
      "text/plain": [
       "\u001B[1mModel: \"sequential_10\"\u001B[0m\n"
      ],
      "text/html": [
       "<pre style=\"white-space:pre;overflow-x:auto;line-height:normal;font-family:Menlo,'DejaVu Sans Mono',consolas,'Courier New',monospace\"><span style=\"font-weight: bold\">Model: \"sequential_10\"</span>\n",
       "</pre>\n"
      ]
     },
     "metadata": {},
     "output_type": "display_data"
    },
    {
     "data": {
      "text/plain": [
       "┏━━━━━━━━━━━━━━━━━━━━━━━━━━━━━━━━━┳━━━━━━━━━━━━━━━━━━━━━━━━┳━━━━━━━━━━━━━━━┓\n",
       "┃\u001B[1m \u001B[0m\u001B[1mLayer (type)                   \u001B[0m\u001B[1m \u001B[0m┃\u001B[1m \u001B[0m\u001B[1mOutput Shape          \u001B[0m\u001B[1m \u001B[0m┃\u001B[1m \u001B[0m\u001B[1m      Param #\u001B[0m\u001B[1m \u001B[0m┃\n",
       "┡━━━━━━━━━━━━━━━━━━━━━━━━━━━━━━━━━╇━━━━━━━━━━━━━━━━━━━━━━━━╇━━━━━━━━━━━━━━━┩\n",
       "│ conv2d_36 (\u001B[38;5;33mConv2D\u001B[0m)              │ (\u001B[38;5;45mNone\u001B[0m, \u001B[38;5;34m30\u001B[0m, \u001B[38;5;34m128\u001B[0m, \u001B[38;5;34m32\u001B[0m)    │           \u001B[38;5;34m320\u001B[0m │\n",
       "├─────────────────────────────────┼────────────────────────┼───────────────┤\n",
       "│ max_pooling2d_27 (\u001B[38;5;33mMaxPooling2D\u001B[0m) │ (\u001B[38;5;45mNone\u001B[0m, \u001B[38;5;34m15\u001B[0m, \u001B[38;5;34m64\u001B[0m, \u001B[38;5;34m32\u001B[0m)     │             \u001B[38;5;34m0\u001B[0m │\n",
       "├─────────────────────────────────┼────────────────────────┼───────────────┤\n",
       "│ conv2d_37 (\u001B[38;5;33mConv2D\u001B[0m)              │ (\u001B[38;5;45mNone\u001B[0m, \u001B[38;5;34m15\u001B[0m, \u001B[38;5;34m64\u001B[0m, \u001B[38;5;34m32\u001B[0m)     │         \u001B[38;5;34m9,248\u001B[0m │\n",
       "├─────────────────────────────────┼────────────────────────┼───────────────┤\n",
       "│ max_pooling2d_28 (\u001B[38;5;33mMaxPooling2D\u001B[0m) │ (\u001B[38;5;45mNone\u001B[0m, \u001B[38;5;34m7\u001B[0m, \u001B[38;5;34m32\u001B[0m, \u001B[38;5;34m32\u001B[0m)      │             \u001B[38;5;34m0\u001B[0m │\n",
       "├─────────────────────────────────┼────────────────────────┼───────────────┤\n",
       "│ conv2d_38 (\u001B[38;5;33mConv2D\u001B[0m)              │ (\u001B[38;5;45mNone\u001B[0m, \u001B[38;5;34m7\u001B[0m, \u001B[38;5;34m32\u001B[0m, \u001B[38;5;34m64\u001B[0m)      │        \u001B[38;5;34m18,496\u001B[0m │\n",
       "├─────────────────────────────────┼────────────────────────┼───────────────┤\n",
       "│ max_pooling2d_29 (\u001B[38;5;33mMaxPooling2D\u001B[0m) │ (\u001B[38;5;45mNone\u001B[0m, \u001B[38;5;34m3\u001B[0m, \u001B[38;5;34m16\u001B[0m, \u001B[38;5;34m64\u001B[0m)      │             \u001B[38;5;34m0\u001B[0m │\n",
       "├─────────────────────────────────┼────────────────────────┼───────────────┤\n",
       "│ conv2d_39 (\u001B[38;5;33mConv2D\u001B[0m)              │ (\u001B[38;5;45mNone\u001B[0m, \u001B[38;5;34m3\u001B[0m, \u001B[38;5;34m16\u001B[0m, \u001B[38;5;34m32\u001B[0m)      │        \u001B[38;5;34m18,464\u001B[0m │\n",
       "├─────────────────────────────────┼────────────────────────┼───────────────┤\n",
       "│ global_average_pooling2d_9      │ (\u001B[38;5;45mNone\u001B[0m, \u001B[38;5;34m32\u001B[0m)             │             \u001B[38;5;34m0\u001B[0m │\n",
       "│ (\u001B[38;5;33mGlobalAveragePooling2D\u001B[0m)        │                        │               │\n",
       "├─────────────────────────────────┼────────────────────────┼───────────────┤\n",
       "│ dense_18 (\u001B[38;5;33mDense\u001B[0m)                │ (\u001B[38;5;45mNone\u001B[0m, \u001B[38;5;34m64\u001B[0m)             │         \u001B[38;5;34m2,112\u001B[0m │\n",
       "├─────────────────────────────────┼────────────────────────┼───────────────┤\n",
       "│ dense_19 (\u001B[38;5;33mDense\u001B[0m)                │ (\u001B[38;5;45mNone\u001B[0m, \u001B[38;5;34m3\u001B[0m)              │           \u001B[38;5;34m195\u001B[0m │\n",
       "└─────────────────────────────────┴────────────────────────┴───────────────┘\n"
      ],
      "text/html": [
       "<pre style=\"white-space:pre;overflow-x:auto;line-height:normal;font-family:Menlo,'DejaVu Sans Mono',consolas,'Courier New',monospace\">┏━━━━━━━━━━━━━━━━━━━━━━━━━━━━━━━━━┳━━━━━━━━━━━━━━━━━━━━━━━━┳━━━━━━━━━━━━━━━┓\n",
       "┃<span style=\"font-weight: bold\"> Layer (type)                    </span>┃<span style=\"font-weight: bold\"> Output Shape           </span>┃<span style=\"font-weight: bold\">       Param # </span>┃\n",
       "┡━━━━━━━━━━━━━━━━━━━━━━━━━━━━━━━━━╇━━━━━━━━━━━━━━━━━━━━━━━━╇━━━━━━━━━━━━━━━┩\n",
       "│ conv2d_36 (<span style=\"color: #0087ff; text-decoration-color: #0087ff\">Conv2D</span>)              │ (<span style=\"color: #00d7ff; text-decoration-color: #00d7ff\">None</span>, <span style=\"color: #00af00; text-decoration-color: #00af00\">30</span>, <span style=\"color: #00af00; text-decoration-color: #00af00\">128</span>, <span style=\"color: #00af00; text-decoration-color: #00af00\">32</span>)    │           <span style=\"color: #00af00; text-decoration-color: #00af00\">320</span> │\n",
       "├─────────────────────────────────┼────────────────────────┼───────────────┤\n",
       "│ max_pooling2d_27 (<span style=\"color: #0087ff; text-decoration-color: #0087ff\">MaxPooling2D</span>) │ (<span style=\"color: #00d7ff; text-decoration-color: #00d7ff\">None</span>, <span style=\"color: #00af00; text-decoration-color: #00af00\">15</span>, <span style=\"color: #00af00; text-decoration-color: #00af00\">64</span>, <span style=\"color: #00af00; text-decoration-color: #00af00\">32</span>)     │             <span style=\"color: #00af00; text-decoration-color: #00af00\">0</span> │\n",
       "├─────────────────────────────────┼────────────────────────┼───────────────┤\n",
       "│ conv2d_37 (<span style=\"color: #0087ff; text-decoration-color: #0087ff\">Conv2D</span>)              │ (<span style=\"color: #00d7ff; text-decoration-color: #00d7ff\">None</span>, <span style=\"color: #00af00; text-decoration-color: #00af00\">15</span>, <span style=\"color: #00af00; text-decoration-color: #00af00\">64</span>, <span style=\"color: #00af00; text-decoration-color: #00af00\">32</span>)     │         <span style=\"color: #00af00; text-decoration-color: #00af00\">9,248</span> │\n",
       "├─────────────────────────────────┼────────────────────────┼───────────────┤\n",
       "│ max_pooling2d_28 (<span style=\"color: #0087ff; text-decoration-color: #0087ff\">MaxPooling2D</span>) │ (<span style=\"color: #00d7ff; text-decoration-color: #00d7ff\">None</span>, <span style=\"color: #00af00; text-decoration-color: #00af00\">7</span>, <span style=\"color: #00af00; text-decoration-color: #00af00\">32</span>, <span style=\"color: #00af00; text-decoration-color: #00af00\">32</span>)      │             <span style=\"color: #00af00; text-decoration-color: #00af00\">0</span> │\n",
       "├─────────────────────────────────┼────────────────────────┼───────────────┤\n",
       "│ conv2d_38 (<span style=\"color: #0087ff; text-decoration-color: #0087ff\">Conv2D</span>)              │ (<span style=\"color: #00d7ff; text-decoration-color: #00d7ff\">None</span>, <span style=\"color: #00af00; text-decoration-color: #00af00\">7</span>, <span style=\"color: #00af00; text-decoration-color: #00af00\">32</span>, <span style=\"color: #00af00; text-decoration-color: #00af00\">64</span>)      │        <span style=\"color: #00af00; text-decoration-color: #00af00\">18,496</span> │\n",
       "├─────────────────────────────────┼────────────────────────┼───────────────┤\n",
       "│ max_pooling2d_29 (<span style=\"color: #0087ff; text-decoration-color: #0087ff\">MaxPooling2D</span>) │ (<span style=\"color: #00d7ff; text-decoration-color: #00d7ff\">None</span>, <span style=\"color: #00af00; text-decoration-color: #00af00\">3</span>, <span style=\"color: #00af00; text-decoration-color: #00af00\">16</span>, <span style=\"color: #00af00; text-decoration-color: #00af00\">64</span>)      │             <span style=\"color: #00af00; text-decoration-color: #00af00\">0</span> │\n",
       "├─────────────────────────────────┼────────────────────────┼───────────────┤\n",
       "│ conv2d_39 (<span style=\"color: #0087ff; text-decoration-color: #0087ff\">Conv2D</span>)              │ (<span style=\"color: #00d7ff; text-decoration-color: #00d7ff\">None</span>, <span style=\"color: #00af00; text-decoration-color: #00af00\">3</span>, <span style=\"color: #00af00; text-decoration-color: #00af00\">16</span>, <span style=\"color: #00af00; text-decoration-color: #00af00\">32</span>)      │        <span style=\"color: #00af00; text-decoration-color: #00af00\">18,464</span> │\n",
       "├─────────────────────────────────┼────────────────────────┼───────────────┤\n",
       "│ global_average_pooling2d_9      │ (<span style=\"color: #00d7ff; text-decoration-color: #00d7ff\">None</span>, <span style=\"color: #00af00; text-decoration-color: #00af00\">32</span>)             │             <span style=\"color: #00af00; text-decoration-color: #00af00\">0</span> │\n",
       "│ (<span style=\"color: #0087ff; text-decoration-color: #0087ff\">GlobalAveragePooling2D</span>)        │                        │               │\n",
       "├─────────────────────────────────┼────────────────────────┼───────────────┤\n",
       "│ dense_18 (<span style=\"color: #0087ff; text-decoration-color: #0087ff\">Dense</span>)                │ (<span style=\"color: #00d7ff; text-decoration-color: #00d7ff\">None</span>, <span style=\"color: #00af00; text-decoration-color: #00af00\">64</span>)             │         <span style=\"color: #00af00; text-decoration-color: #00af00\">2,112</span> │\n",
       "├─────────────────────────────────┼────────────────────────┼───────────────┤\n",
       "│ dense_19 (<span style=\"color: #0087ff; text-decoration-color: #0087ff\">Dense</span>)                │ (<span style=\"color: #00d7ff; text-decoration-color: #00d7ff\">None</span>, <span style=\"color: #00af00; text-decoration-color: #00af00\">3</span>)              │           <span style=\"color: #00af00; text-decoration-color: #00af00\">195</span> │\n",
       "└─────────────────────────────────┴────────────────────────┴───────────────┘\n",
       "</pre>\n"
      ]
     },
     "metadata": {},
     "output_type": "display_data"
    },
    {
     "data": {
      "text/plain": [
       "\u001B[1m Total params: \u001B[0m\u001B[38;5;34m48,835\u001B[0m (190.76 KB)\n"
      ],
      "text/html": [
       "<pre style=\"white-space:pre;overflow-x:auto;line-height:normal;font-family:Menlo,'DejaVu Sans Mono',consolas,'Courier New',monospace\"><span style=\"font-weight: bold\"> Total params: </span><span style=\"color: #00af00; text-decoration-color: #00af00\">48,835</span> (190.76 KB)\n",
       "</pre>\n"
      ]
     },
     "metadata": {},
     "output_type": "display_data"
    },
    {
     "data": {
      "text/plain": [
       "\u001B[1m Trainable params: \u001B[0m\u001B[38;5;34m48,835\u001B[0m (190.76 KB)\n"
      ],
      "text/html": [
       "<pre style=\"white-space:pre;overflow-x:auto;line-height:normal;font-family:Menlo,'DejaVu Sans Mono',consolas,'Courier New',monospace\"><span style=\"font-weight: bold\"> Trainable params: </span><span style=\"color: #00af00; text-decoration-color: #00af00\">48,835</span> (190.76 KB)\n",
       "</pre>\n"
      ]
     },
     "metadata": {},
     "output_type": "display_data"
    },
    {
     "data": {
      "text/plain": [
       "\u001B[1m Non-trainable params: \u001B[0m\u001B[38;5;34m0\u001B[0m (0.00 B)\n"
      ],
      "text/html": [
       "<pre style=\"white-space:pre;overflow-x:auto;line-height:normal;font-family:Menlo,'DejaVu Sans Mono',consolas,'Courier New',monospace\"><span style=\"font-weight: bold\"> Non-trainable params: </span><span style=\"color: #00af00; text-decoration-color: #00af00\">0</span> (0.00 B)\n",
       "</pre>\n"
      ]
     },
     "metadata": {},
     "output_type": "display_data"
    }
   ],
   "execution_count": 159
  },
  {
   "metadata": {},
   "cell_type": "markdown",
   "source": "",
   "id": "765d37261d392d94"
  },
  {
   "metadata": {},
   "cell_type": "markdown",
   "source": "CNN_RET",
   "id": "ac878d3f8621bf1c"
  },
  {
   "metadata": {},
   "cell_type": "markdown",
   "source": "训练模型和评估，模型",
   "id": "ccb44d8bd1a1ab35"
  },
  {
   "metadata": {
    "ExecuteTime": {
     "end_time": "2024-07-19T00:15:10.867335Z",
     "start_time": "2024-07-19T00:15:10.859301Z"
    }
   },
   "cell_type": "code",
   "source": [
    "from keras.callbacks import Callback \n",
    "\n",
    "class LossHistory(Callback):  \n",
    "    def on_train_begin(self, logs={}):  \n",
    "        self.train_losses = []  \n",
    "        self.val_losses = []  \n",
    "  \n",
    "    def on_batch_end(self, batch, logs={}):  \n",
    "        self.train_losses.append(logs.get('loss'))  \n",
    "  \n",
    "    def on_epoch_end(self, epoch, logs={}):  \n",
    "        self.val_losses.append(logs.get('val_loss'))\n",
    "  "
   ],
   "id": "10c5035ac129dbe6",
   "outputs": [],
   "execution_count": 123
  },
  {
   "metadata": {
    "ExecuteTime": {
     "end_time": "2024-07-19T00:15:12.669596Z",
     "start_time": "2024-07-19T00:15:12.662594Z"
    }
   },
   "cell_type": "code",
   "source": [
    "# 输入测试数据\n",
    "y_test = y_test_B\n",
    "X_test = X_test_B"
   ],
   "id": "fd5ec86c5fdad85e",
   "outputs": [],
   "execution_count": 124
  },
  {
   "metadata": {
    "ExecuteTime": {
     "end_time": "2024-07-19T00:15:15.588562Z",
     "start_time": "2024-07-19T00:15:15.582532Z"
    }
   },
   "cell_type": "code",
   "source": [
    "# 将y_test转换成独热编码\n",
    "y_test = to_categorical(y_test, num_classes=3)"
   ],
   "id": "7b175b464896962e",
   "outputs": [],
   "execution_count": 125
  },
  {
   "metadata": {
    "ExecuteTime": {
     "end_time": "2024-07-19T00:15:17.890795Z",
     "start_time": "2024-07-19T00:15:17.819718Z"
    }
   },
   "cell_type": "code",
   "source": [
    "# 调整测试集输入数据形状\n",
    "X_test = np.squeeze(X_test)\n",
    "X_test = Reshape((n_w,n_h,1))(X_test)"
   ],
   "id": "3e0d38e05ca85d51",
   "outputs": [],
   "execution_count": 126
  },
  {
   "metadata": {
    "ExecuteTime": {
     "end_time": "2024-07-18T06:46:23.041146Z",
     "start_time": "2024-07-18T06:46:23.038203Z"
    }
   },
   "cell_type": "code",
   "source": [
    "# # 早停法\n",
    "# from tensorflow.keras.callbacks import EarlyStopping  \n",
    "# early_stopping = EarlyStopping(monitor='val_loss', patience=3)  "
   ],
   "id": "73c678048c8d3f50",
   "outputs": [],
   "execution_count": 71
  },
  {
   "metadata": {
    "ExecuteTime": {
     "end_time": "2024-07-19T00:31:32.819198Z",
     "start_time": "2024-07-19T00:28:42.257768Z"
    }
   },
   "cell_type": "code",
   "source": [
    "# 实例化LossHistory回调  \n",
    "history = LossHistory()  \n",
    "# 训练\n",
    "\n",
    "model.fit(X_train,y_train,  epochs=3, batch_size=512, validation_split=0.2,callbacks=[history,checkpoint_cb])\n",
    "# # 查看每个batch的损失  \n",
    "# print(history.losses)"
   ],
   "id": "d890de6d563e5175",
   "outputs": [
    {
     "name": "stdout",
     "output_type": "stream",
     "text": [
      "Epoch 1/3\n",
      "\u001B[1m472/472\u001B[0m \u001B[32m━━━━━━━━━━━━━━━━━━━━\u001B[0m\u001B[37m\u001B[0m \u001B[1m0s\u001B[0m 111ms/step - accuracy: 0.8656 - loss: 0.3155\n",
      "Epoch 1: val_loss did not improve from 0.24433\n",
      "\u001B[1m472/472\u001B[0m \u001B[32m━━━━━━━━━━━━━━━━━━━━\u001B[0m\u001B[37m\u001B[0m \u001B[1m59s\u001B[0m 121ms/step - accuracy: 0.8657 - loss: 0.3152 - val_accuracy: 0.8911 - val_loss: 0.3088\n",
      "Epoch 2/3\n",
      "\u001B[1m472/472\u001B[0m \u001B[32m━━━━━━━━━━━━━━━━━━━━\u001B[0m\u001B[37m\u001B[0m \u001B[1m0s\u001B[0m 110ms/step - accuracy: 0.9807 - loss: 0.0674\n",
      "Epoch 2: val_loss did not improve from 0.24433\n",
      "\u001B[1m472/472\u001B[0m \u001B[32m━━━━━━━━━━━━━━━━━━━━\u001B[0m\u001B[37m\u001B[0m \u001B[1m56s\u001B[0m 119ms/step - accuracy: 0.9807 - loss: 0.0674 - val_accuracy: 0.8989 - val_loss: 0.2823\n",
      "Epoch 3/3\n",
      "\u001B[1m472/472\u001B[0m \u001B[32m━━━━━━━━━━━━━━━━━━━━\u001B[0m\u001B[37m\u001B[0m \u001B[1m0s\u001B[0m 109ms/step - accuracy: 0.9828 - loss: 0.0579\n",
      "Epoch 3: val_loss did not improve from 0.24433\n",
      "\u001B[1m472/472\u001B[0m \u001B[32m━━━━━━━━━━━━━━━━━━━━\u001B[0m\u001B[37m\u001B[0m \u001B[1m56s\u001B[0m 118ms/step - accuracy: 0.9828 - loss: 0.0579 - val_accuracy: 0.8701 - val_loss: 0.3762\n"
     ]
    },
    {
     "data": {
      "text/plain": [
       "<keras.src.callbacks.history.History at 0x15580d49eb0>"
      ]
     },
     "execution_count": 160,
     "metadata": {},
     "output_type": "execute_result"
    }
   ],
   "execution_count": 160
  },
  {
   "metadata": {
    "ExecuteTime": {
     "end_time": "2024-07-19T00:31:36.631415Z",
     "start_time": "2024-07-19T00:31:36.533735Z"
    }
   },
   "cell_type": "code",
   "source": [
    "# 绘制损失图 \n",
    "batch_downsample = 10\n",
    "plt.figure(figsize=(10, 6))  \n",
    "plt.plot(range(0, len(history.train_losses), batch_downsample),   \n",
    "         history.train_losses[::batch_downsample],   \n",
    "         marker='.', linestyle='-', color='red', label='Training Loss per Batch (Sampled)')  \n",
    "# plt.plot(range(1, len(history.val_losses) + 1),   \n",
    "#          history.val_losses,   \n",
    "#          marker='o', linestyle='-', color='green', label='Validation Loss per Epoch')  \n",
    "  \n",
    "plt.title('Loss Over Training and Validation')  \n",
    "plt.xlabel('Epoch/Batch')  \n",
    "plt.ylabel('Loss')  \n",
    "plt.legend()  \n",
    "plt.grid(True)  \n",
    "  \n",
    "plt.show()"
   ],
   "id": "6a740c006ac64045",
   "outputs": [
    {
     "data": {
      "text/plain": [
       "<Figure size 1000x600 with 1 Axes>"
      ],
      "image/png": "[encoded data removed]"
     },
     "metadata": {},
     "output_type": "display_data"
    }
   ],
   "execution_count": 161
  },
  {
   "metadata": {},
   "cell_type": "code",
   "outputs": [],
   "execution_count": null,
   "source": [
    "# # 保存模型  \n",
    "# model.save('last_model.keras')  "
   ],
   "id": "dd5b050bdbfed4d4"
  },
  {
   "metadata": {
    "ExecuteTime": {
     "end_time": "2024-07-19T00:31:43.371240Z",
     "start_time": "2024-07-19T00:31:43.356602Z"
    }
   },
   "cell_type": "code",
   "source": [
    "# 调整测试集输入数据形状\n",
    "y_test = y_test_B\n",
    "# 将独热编码转换为类别标签  \n",
    "y_test = to_categorical(y_test, num_classes=3)\n",
    "X_test = X_test_B\n",
    "# 测试输入整形\n",
    "# 调整测试集输入数据形状\n",
    "X_test = np.squeeze(X_test)\n",
    "X_test = Reshape((n_w,n_h,1))(X_test)\n"
   ],
   "id": "5cc5a20333c9dd4a",
   "outputs": [],
   "execution_count": 162
  },
  {
   "metadata": {
    "ExecuteTime": {
     "end_time": "2024-07-19T00:31:51.682069Z",
     "start_time": "2024-07-19T00:31:51.181546Z"
    }
   },
   "cell_type": "code",
   "source": [
    "# 评估模型2\n",
    "loss, accuracy = model.evaluate(X_test, y_test)\n",
    "print(f\"测试损失: {loss}, 测试准确率: {accuracy}\")"
   ],
   "id": "64952f1880e2181",
   "outputs": [
    {
     "name": "stdout",
     "output_type": "stream",
     "text": [
      "\u001B[1m54/54\u001B[0m \u001B[32m━━━━━━━━━━━━━━━━━━━━\u001B[0m\u001B[37m\u001B[0m \u001B[1m0s\u001B[0m 4ms/step - accuracy: 0.8906 - loss: 0.4512\n",
      "测试损失: 0.6116853356361389, 测试准确率: 0.8094117641448975\n"
     ]
    }
   ],
   "execution_count": 165
  },
  {
   "metadata": {
    "ExecuteTime": {
     "end_time": "2024-07-19T00:31:57.365091Z",
     "start_time": "2024-07-19T00:31:56.992609Z"
    }
   },
   "cell_type": "code",
   "source": "y_pred = model.predict(X_test)",
   "id": "ae8435a85671950a",
   "outputs": [
    {
     "name": "stdout",
     "output_type": "stream",
     "text": [
      "\u001B[1m54/54\u001B[0m \u001B[32m━━━━━━━━━━━━━━━━━━━━\u001B[0m\u001B[37m\u001B[0m \u001B[1m0s\u001B[0m 5ms/step\n"
     ]
    }
   ],
   "execution_count": 166
  },
  {
   "metadata": {
    "ExecuteTime": {
     "end_time": "2024-07-19T00:31:59.257329Z",
     "start_time": "2024-07-19T00:31:59.241072Z"
    }
   },
   "cell_type": "code",
   "source": [
    "# 将独热编码转换为类别标签  \n",
    "y_test = np.argmax(y_test, axis=1)  \n",
    "  \n",
    "# 将 y_pred 转换成类别标签  \n",
    "\n",
    "y_pred = np.argmax(y_pred, axis=1) \n",
    "  \n",
    "\n",
    "\n",
    "# 计算每个类别的精确率、召回率和F1分数  \n",
    "# 注意：sklearn的precision_score, recall_score, f1_score默认计算的是所有类别的平均值  \n",
    "\n",
    "# 类别标签，用于指定要计算哪些类别的指标  \n",
    "labels = np.unique(y_test)  \n",
    "\n",
    "# 计算准确率  \n",
    "accuracy = accuracy_score(y_test, y_pred)  \n",
    "print(f\"准确率: {accuracy}\")\n",
    "\n",
    "# 计算每个类别的精确率  \n",
    "precisions = {label: precision_score(y_test, y_pred, average=None, labels=[label]) for label in labels}  \n",
    "  \n",
    "# 计算每个类别的召回率  \n",
    "recalls = {label: recall_score(y_test, y_pred, average=None, labels=[label]) for label in labels}  \n",
    "  \n",
    "# 计算每个类别的F1分数  \n",
    "f1s = {label: f1_score(y_test, y_pred, average=None, labels=[label]) for label in labels}  \n",
    "  \n",
    "# 打印结果  \n",
    "print(\"精确率:\", precisions)  \n",
    "print(\"召回率:\", recalls)  \n",
    "print(\"F1分数:\", f1s)  \n",
    "  \n",
    "# 如果你想要宏平均（Macro-averaging）或微平均（Micro-averaging）的结果，  \n",
    "# 可以简单地调用precision_score, recall_score, f1_score时设置average参数为'macro'或'micro'  \n",
    "macro_precision = precision_score(y_test, y_pred, average='macro')  \n",
    "macro_recall = recall_score(y_test, y_pred, average='macro')  \n",
    "macro_f1 = f1_score(y_test, y_pred, average='macro')  \n",
    "  \n",
    "print(\"宏平均精确率:\", macro_precision)  \n",
    "print(\"宏平均召回率:\", macro_recall)  \n",
    "print(\"宏平均F1分数:\", macro_f1)\n",
    "\n",
    "# 计算混淆矩阵  \n",
    "cm = confusion_matrix(y_pred,y_test)  \n",
    "  \n",
    "# 打印混淆矩阵  \n",
    "print(\"混淆矩阵:\")  \n",
    "print(cm)  \n",
    "\n"
   ],
   "id": "647a7eebd020344",
   "outputs": [
    {
     "name": "stdout",
     "output_type": "stream",
     "text": [
      "准确率: 0.8094117647058824\n",
      "精确率: {0: array([0.93083573]), 1: array([0.77046672]), 2: array([1.])}\n",
      "召回率: {0: array([0.52435065]), 1: array([0.98822375]), 2: array([0.70769231])}\n",
      "F1分数: {0: array([0.67082035]), 1: array([0.86586414]), 2: array([0.82882883])}\n",
      "宏平均精确率: 0.9004341508481266\n",
      "宏平均召回率: 0.7400889019387548\n",
      "宏平均F1分数: 0.7885044421153903\n",
      "混淆矩阵:\n",
      "[[ 323   12   12]\n",
      " [ 293 1007    7]\n",
      " [   0    0   46]]\n"
     ]
    }
   ],
   "execution_count": 167
  },
  {
   "metadata": {
    "ExecuteTime": {
     "end_time": "2024-07-19T00:32:03.211698Z",
     "start_time": "2024-07-19T00:32:02.937975Z"
    }
   },
   "cell_type": "code",
   "source": [
    "# 绘制roc曲线\n",
    "y_test = y_test_B\n",
    "# 将独热编码转换为类别标签  \n",
    "y_test = to_categorical(y_test, num_classes=3)\n",
    "\n",
    "# 测试输入\n",
    "y_pred = model.predict(X_test)"
   ],
   "id": "177b802c71ea9589",
   "outputs": [
    {
     "name": "stdout",
     "output_type": "stream",
     "text": [
      "\u001B[1m54/54\u001B[0m \u001B[32m━━━━━━━━━━━━━━━━━━━━\u001B[0m\u001B[37m\u001B[0m \u001B[1m0s\u001B[0m 4ms/step\n"
     ]
    }
   ],
   "execution_count": 168
  },
  {
   "metadata": {
    "ExecuteTime": {
     "end_time": "2024-07-19T00:32:05.293055Z",
     "start_time": "2024-07-19T00:32:05.182864Z"
    }
   },
   "cell_type": "code",
   "source": [
    "# 将类别标签二值化  \n",
    "y_test_binarized = label_binarize(y_test, classes=[0, 1, 2])  \n",
    "n_classes = y_test_binarized.shape[1]  \n",
    "\n",
    "# 初始化FPR, TPR数组  \n",
    "fpr = dict()  \n",
    "tpr = dict()  \n",
    "roc_auc = dict()  \n",
    "  \n",
    "# 对每个类别计算ROC曲线  \n",
    "for i in range(n_classes):  \n",
    "    fpr[i], tpr[i], _ = roc_curve(y_test_binarized[:, i], y_pred[:, i])  \n",
    "    roc_auc[i] = auc(fpr[i], tpr[i])  \n",
    "  \n",
    "# 绘制ROC曲线  \n",
    "plt.figure()  \n",
    "lw = 2  \n",
    "colors = ['darkorange', 'cornflowerblue', 'gold']  \n",
    "for i, color in zip(range(n_classes), colors):  \n",
    "    plt.plot(fpr[i], tpr[i], color=color, lw=lw,  \n",
    "             label=f'Class {i} (AUC = {roc_auc[i]:.2f})')  \n",
    "  \n",
    "plt.plot([0, 1], [0, 1], 'k--', lw=lw)  \n",
    "plt.xlim([0.0, 1.0])  \n",
    "plt.ylim([0.0, 1.05])  \n",
    "plt.xlabel('False Positive Rate')  \n",
    "plt.ylabel('True Positive Rate')  \n",
    "plt.title('Receiver Operating Characteristic (Multi-class)')  \n",
    "plt.legend(loc=\"lower right\")  \n",
    "plt.show()"
   ],
   "id": "d9bc2417ae5b93ce",
   "outputs": [
    {
     "data": {
      "text/plain": [
       "<Figure size 640x480 with 1 Axes>"
      ],
      "image/png": "[encoded data removed]"
     },
     "metadata": {},
     "output_type": "display_data"
    }
   ],
   "execution_count": 169
  },
  {
   "metadata": {},
   "cell_type": "code",
   "outputs": [],
   "execution_count": null,
   "source": [
    "from keras.preprocessing import sequence\n",
    "from keras.datasets import imdb\n",
    "from matplotlib import pyplot as plt\n",
    "import pandas as pd\n",
    "  \n",
    "from keras import backend as K\n",
    "from keras.engine.topology import Layer\n",
    "  \n",
    "  \n",
    "class Self_Attention(Layer):\n",
    "  \n",
    "    def __init__(self, output_dim, **kwargs):\n",
    "        self.output_dim = output_dim\n",
    "        super(Self_Attention, self).__init__(**kwargs)\n",
    "  \n",
    "    def build(self, input_shape):\n",
    "        # 为该层创建一个可训练的权重\n",
    "        #inputs.shape = (batch_size, time_steps, seq_len)\n",
    "        self.kernel = self.add_weight(name='kernel',\n",
    "                                      shape=(3,input_shape[2], self.output_dim),\n",
    "                                      initializer='uniform',\n",
    "                                      trainable=True)\n",
    "  \n",
    "        super(Self_Attention, self).build(input_shape)  # 一定要在最后调用它\n",
    "  \n",
    "    def call(self, x):\n",
    "        WQ = K.dot(x, self.kernel[0])\n",
    "        WK = K.dot(x, self.kernel[1])\n",
    "        WV = K.dot(x, self.kernel[2])\n",
    "  \n",
    "        print(\"WQ.shape\",WQ.shape)\n",
    "  \n",
    "        print(\"K.permute_dimensions(WK, [0, 2, 1]).shape\",K.permute_dimensions(WK, [0, 2, 1]).shape)\n",
    "  \n",
    "  \n",
    "        QK = K.batch_dot(WQ,K.permute_dimensions(WK, [0, 2, 1]))\n",
    "  \n",
    "        QK = QK / (64**0.5)\n",
    "  \n",
    "        QK = K.softmax(QK)\n",
    "  \n",
    "        print(\"QK.shape\",QK.shape)\n",
    "  \n",
    "        V = K.batch_dot(QK,WV)\n",
    "  \n",
    "        return V\n",
    "  \n",
    "    def compute_output_shape(self, input_shape):\n",
    "  \n",
    "        return (input_shape[0],input_shape[1],self.output_dim)"
   ],
   "id": "d9a7f998ee628441"
  }
 ],
 "metadata": {
  "kernelspec": {
   "display_name": "Python (pml-project)",
   "language": "python",
   "name": "pml-project"
  },
  "language_info": {
   "codemirror_mode": {
    "name": "ipython",
    "version": 2
   },
   "file_extension": ".py",
   "mimetype": "text/x-python",
   "name": "python",
   "nbconvert_exporter": "python",
   "pygments_lexer": "ipython2",
   "version": "2.7.6"
  }
 },
 "nbformat": 4,
 "nbformat_minor": 5
}
