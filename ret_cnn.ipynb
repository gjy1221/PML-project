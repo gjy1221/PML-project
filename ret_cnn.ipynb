{
 "cells": [
  {
   "cell_type": "code",
   "execution_count": null,
   "id": "initial_id",
   "metadata": {
    "collapsed": true
   },
   "outputs": [],
   "source": [
    ""
   ]
  },
  {
   "metadata": {
    "ExecuteTime": {
     "end_time": "2024-07-18T11:59:08.018813Z",
     "start_time": "2024-07-18T11:59:08.016904Z"
    }
   },
   "cell_type": "code",
   "source": [
    "def residual_block(x, filters, kernel_size=3, stride=1, conv_shortcut=False):\n",
    "    shortcut = x\n",
    "    \n",
    "    # 第一个卷积层\n",
    "    y = Conv2D(filters, kernel_size=(kernel_size, kernel_size), strides=(stride, stride), padding='same')(x)\n",
    "    y = BatchNormalization()(y)\n",
    "    y = Activation('relu')(y)\n",
    "    \n",
    "    # 第二个卷积层\n",
    "    y = Conv2D(filters, kernel_size=(kernel_size, kernel_size), strides=(1, 1), padding='same')(y)\n",
    "    y = BatchNormalization()(y)\n",
    "    \n",
    "    # 如果需要，使用卷积层调整捷径分支的形状\n",
    "    if conv_shortcut or x.shape[-1] != filters:\n",
    "        shortcut = Conv2D(filters, kernel_size=(1, 1), strides=(stride, stride), padding='same')(shortcut)\n",
    "    \n",
    "    # 添加捷径连接\n",
    "    y = Add()([shortcut, y])\n",
    "    y = Activation('relu')(y)\n",
    "    \n",
    "    return y\n",
    "\n",
    "\n",
    "# 定义 ResNet 结构\n",
    "def ResNet(input_shape=(30, 128, 1), num_classes=3):\n",
    "    inputs = Input(shape=input_shape)\n",
    "    \n",
    "    # 第一个卷积层\n",
    "    x = Conv2D(32, kernel_size=(3, 3), strides=(1, 1), padding='same')(inputs)\n",
    "    x = BatchNormalization()(x)\n",
    "    x = Activation('relu')(x)\n",
    "    x = MaxPooling2D(pool_size=(2, 2), strides=(1, 1), padding='same')(x)\n",
    "    \n",
    "    # 堆叠残差块\n",
    "    x = residual_block(x, filters=32, conv_shortcut=True)\n",
    "    x = residual_block(x, filters=32)\n",
    "    x = residual_block(x, filters=32)\n",
    "    \n",
    "\n",
    "    \n",
    "    # 全局平均池化层\n",
    "    x = GlobalAveragePooling2D()(x)\n",
    "    \n",
    "    # 全连接层\n",
    "    x = Dense(num_classes, activation='softmax')(x)\n",
    "    \n",
    "    # 创建模型\n",
    "    model = Model(inputs=inputs, outputs=x, name='ResNet')\n",
    "    return model\n",
    "\n",
    "# 创建 ResNet 模型\n",
    "resnet = ResNet()\n",
    "\n",
    "# 打印模型结构\n",
    "resnet.summary()\n",
    "\n",
    "# 编译模型\n",
    "resnet.compile(optimizer='adam',  # 使用 Adam 优化器，设置学习率为 0.001\n",
    "               loss='categorical_crossentropy',  # 多分类问题常用的交叉熵损失函数\n",
    "               metrics=['accuracy'])  # 指定训练过程中监控的评估指标为准确率"
   ],
   "id": "c2588e8238e180b",
   "outputs": [],
   "execution_count": null
  }
 ],
 "metadata": {
  "kernelspec": {
   "display_name": "Python 3",
   "language": "python",
   "name": "python3"
  },
  "language_info": {
   "codemirror_mode": {
    "name": "ipython",
    "version": 2
   },
   "file_extension": ".py",
   "mimetype": "text/x-python",
   "name": "python",
   "nbconvert_exporter": "python",
   "pygments_lexer": "ipython2",
   "version": "2.7.6"
  }
 },
 "nbformat": 4,
 "nbformat_minor": 5
}
